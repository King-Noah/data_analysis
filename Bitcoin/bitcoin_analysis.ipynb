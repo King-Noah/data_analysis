{
 "cells": [
  {
   "cell_type": "code",
   "execution_count": 28,
   "id": "7b237e64-9750-4cf4-b848-6c1751ec2ef5",
   "metadata": {},
   "outputs": [],
   "source": [
    "import boto3\n",
    "import cufflinks as cf\n",
    "import json\n",
    "import matplotlib.pyplot as plt\n",
    "import numpy as np\n",
    "import pandas as pd\n",
    "import plotly.graph_objs as go\n",
    "import warnings\n",
    "\n",
    "from io import StringIO\n",
    "from plotly.offline import download_plotlyjs, init_notebook_mode, plot, iplot"
   ]
  },
  {
   "cell_type": "code",
   "execution_count": 29,
   "id": "f9eb0acd-3a62-43fc-8f92-40f89df9095d",
   "metadata": {},
   "outputs": [
    {
     "data": {
      "text/html": [
       "        <script type=\"text/javascript\">\n",
       "        window.PlotlyConfig = {MathJaxConfig: 'local'};\n",
       "        if (window.MathJax && window.MathJax.Hub && window.MathJax.Hub.Config) {window.MathJax.Hub.Config({SVG: {font: \"STIX-Web\"}});}\n",
       "        if (typeof require !== 'undefined') {\n",
       "        require.undef(\"plotly\");\n",
       "        requirejs.config({\n",
       "            paths: {\n",
       "                'plotly': ['https://cdn.plot.ly/plotly-2.35.2.min']\n",
       "            }\n",
       "        });\n",
       "        require(['plotly'], function(Plotly) {\n",
       "            window._Plotly = Plotly;\n",
       "        });\n",
       "        }\n",
       "        </script>\n",
       "        "
      ]
     },
     "metadata": {},
     "output_type": "display_data"
    },
    {
     "data": {
      "text/html": [
       "        <script type=\"text/javascript\">\n",
       "        window.PlotlyConfig = {MathJaxConfig: 'local'};\n",
       "        if (window.MathJax && window.MathJax.Hub && window.MathJax.Hub.Config) {window.MathJax.Hub.Config({SVG: {font: \"STIX-Web\"}});}\n",
       "        if (typeof require !== 'undefined') {\n",
       "        require.undef(\"plotly\");\n",
       "        requirejs.config({\n",
       "            paths: {\n",
       "                'plotly': ['https://cdn.plot.ly/plotly-2.35.2.min']\n",
       "            }\n",
       "        });\n",
       "        require(['plotly'], function(Plotly) {\n",
       "            window._Plotly = Plotly;\n",
       "        });\n",
       "        }\n",
       "        </script>\n",
       "        "
      ]
     },
     "metadata": {},
     "output_type": "display_data"
    }
   ],
   "source": [
    "cf.go_offline()\n",
    "init_notebook_mode(connected=True)\n",
    "warnings.filterwarnings('ignore')"
   ]
  },
  {
   "cell_type": "code",
   "execution_count": 30,
   "id": "3488efe4-5647-4dfe-86f2-09818dbd34fa",
   "metadata": {},
   "outputs": [],
   "source": [
    "def get_secret():\n",
    "    secret_name = \"s3_data_analysis\"\n",
    "    region_name = \"us-east-1\"\n",
    "\n",
    "    # Create a Secrets Manager client with default credentials\n",
    "    session = boto3.session.Session()\n",
    "    client = session.client(\n",
    "        service_name='secretsmanager',\n",
    "        region_name=region_name\n",
    "    )\n",
    "\n",
    "    try:\n",
    "        # Retrieve the secret value from Secrets Manager\n",
    "        get_secret_value_response = client.get_secret_value(\n",
    "            SecretId=secret_name\n",
    "        )\n",
    "    except ClientError as e:\n",
    "        raise e\n",
    "\n",
    "    # Extract the secret string (which is a JSON object)\n",
    "    secret = get_secret_value_response['SecretString']\n",
    "    \n",
    "    # Parse the secret string as JSON\n",
    "    secrets = json.loads(secret)\n",
    "    \n",
    "    # Retrieve AWS credentials from the secrets\n",
    "    aws_access_key_id = secrets['aws_access_key_id']\n",
    "    aws_secret_access_key = secrets['aws_secret_access_key']\n",
    "    \n",
    "    # Now use the retrieved credentials to create the S3 client\n",
    "    s3_client = boto3.client(\n",
    "        's3',\n",
    "        aws_access_key_id=aws_access_key_id,\n",
    "        aws_secret_access_key=aws_secret_access_key\n",
    "    )\n",
    "\n",
    "    return s3_client\n",
    "\n",
    "s3_client = get_secret()"
   ]
  },
  {
   "cell_type": "code",
   "execution_count": null,
   "id": "ccadaf8d-b5b2-4ec7-9ee1-15436c76caa1",
   "metadata": {},
   "outputs": [],
   "source": [
    "def read_csv_from_s3(bucket_name, key, s3_client=None):\n",
    "    \n",
    "    if s3_client is None:\n",
    "        s3_client = boto3.client('s3')\n",
    "    try:\n",
    "        response = s3_client.get_object(Bucket=bucket_name, Key=key)\n",
    "        csv_content = response['Body'].read().decode('utf-8')\n",
    "        data = StringIO(csv_content)\n",
    "        df = pd.read_csv(data)\n",
    "        return df\n",
    "    except Exception as e:\n",
    "         print(f\"Error reading CSV from S3: {e}\")\n",
    "         return None\n",
    "\n",
    "bucket_name = 'nk.data.analysis'\n",
    "key = 'Bitcoin_Analysis/btcusd_1-min_data.csv'\n",
    "\n",
    "df = read_csv_from_s3(bucket_name, key, s3_client)"
   ]
  },
  {
   "cell_type": "code",
   "execution_count": null,
   "id": "2a59d782-b8ee-4f9b-90c2-4351788511d6",
   "metadata": {},
   "outputs": [],
   "source": []
  },
  {
   "cell_type": "code",
   "execution_count": null,
   "id": "5138efd3-3564-448e-a650-c8d40c4e0a34",
   "metadata": {},
   "outputs": [],
   "source": [
    "df['Timestamp'] = pd.to_datetime(df['Timestamp'], unit='s')\n",
    "\n",
    "df = df.sort_index(ascending=False).reset_index()\n",
    "\n",
    "df.drop('index', axis=1, inplace=True)\n",
    "\n",
    "df.set_index('Timestamp', inplace=True)"
   ]
  },
  {
   "cell_type": "code",
   "execution_count": null,
   "id": "fe1580f1-161d-47fa-b202-27f39fec8187",
   "metadata": {},
   "outputs": [],
   "source": [
    "df_daily = df.resample('D').agg({\n",
    "    'Open': 'first',    # First entry of each day\n",
    "    'High': 'max',      # Highest value for each day\n",
    "    'Low': 'min',       # Lowest value for each day\n",
    "    'Close': 'last',    # Last entry of each day\n",
    "    'Volume': 'sum'     # Summing the volume for each day (optional)\n",
    "}).dropna()\n",
    "\n",
    "df_daily = df_daily.sort_index(ascending=False)\n",
    "\n",
    "bitcoin_sample = df_daily[0:50]"
   ]
  },
  {
   "cell_type": "code",
   "execution_count": null,
   "id": "c86b1396-2026-4818-b084-7ae9a39b266a",
   "metadata": {},
   "outputs": [],
   "source": [
    "plt.figure(figsize=(20,12))\n",
    "\n",
    "colors = {\n",
    "    'Open': '#27AE60',    # Emerald Green\n",
    "    'High': '#3498DB',    # Steel Blue\n",
    "    'Low': '#E74C3C',     # Crimson Red\n",
    "    'Close': '#F39C12'    # Bitcoin Gold/Orange\n",
    "}\n",
    "\n",
    "\n",
    "for col in ['Open', 'High', 'Low', 'Close']:\n",
    "    plt.plot(bitcoin_sample.index, bitcoin_sample[col], label=col, color=colors[col])\n",
    "\n",
    "plt.title('Bitcoin Daily Price Overview', fontsize=16)\n",
    "plt.xlabel('Date', fontsize=14)\n",
    "plt.ylabel('Price', fontsize=14)\n",
    "\n",
    "plt.legend()\n",
    "\n",
    "plt.show()"
   ]
  },
  {
   "cell_type": "code",
   "execution_count": null,
   "id": "a8e93e6d-11fc-4e9f-94b2-0207b615dcc5",
   "metadata": {},
   "outputs": [],
   "source": []
  },
  {
   "cell_type": "code",
   "execution_count": null,
   "id": "ed2d98dc-2268-4efa-b6a7-deac464c1b49",
   "metadata": {},
   "outputs": [],
   "source": [
    "trace = go.Candlestick(\n",
    "    x=bitcoin_sample.index,\n",
    "    high=bitcoin_sample['High'],\n",
    "    low=bitcoin_sample['Low'],\n",
    "    open=bitcoin_sample['Open'],\n",
    "    close=bitcoin_sample['Close'],\n",
    "    increasing_line=dict(width=2),\n",
    "    decreasing_line=dict(width=2)\n",
    ")\n",
    "\n",
    "fig = go.Figure(data=[trace])\n",
    "\n",
    "fig.update_layout(\n",
    "    title='Bitcoin Historical Prices',\n",
    "    xaxis=dict(\n",
    "        title='Date',\n",
    "        tickformat='%b %d, %Y',\n",
    "        tickangle=-45\n",
    "    ),\n",
    "    yaxis=dict(\n",
    "        title='Price',\n",
    "        gridcolor='lightgray',\n",
    "        zerolinecolor='black'\n",
    "    ),\n",
    "    hovermode='x unified',\n",
    "    xaxis_rangeslider_visible=False\n",
    ")\n",
    "\n",
    "fig.show()\n"
   ]
  },
  {
   "cell_type": "code",
   "execution_count": null,
   "id": "83462c41-bb6e-4113-bc32-a81d521ee2c7",
   "metadata": {},
   "outputs": [],
   "source": []
  },
  {
   "cell_type": "code",
   "execution_count": null,
   "id": "ffa0d717-440d-42be-9e07-170421b80ecb",
   "metadata": {},
   "outputs": [],
   "source": [
    "fig, ax1 = plt.subplots(figsize=(20, 12))\n",
    "\n",
    "# Plot the original closing prices on the primary y-axis (linear scale)\n",
    "ax1.plot(df_daily.index, df_daily['Close'], label=\"Linear Scale\", color=\"#3498DB\", alpha=0.8)\n",
    "ax1.set_ylabel(\"Price (Linear)\", color=\"#3498DB\")\n",
    "ax1.tick_params(axis='y', labelcolor=\"#3498DB\")\n",
    "ax1.set_yscale(\"linear\")\n",
    "\n",
    "# Create a secondary y-axis (logarithmic scale)\n",
    "ax2 = ax1.twinx()\n",
    "ax2.plot(df_daily.index, df_daily['Close'], label=\"Log Scale\", color=\"#F39C12\", alpha=0.8)\n",
    "ax2.set_ylabel(\"Price (Log Scale)\", color=\"#F39C12\")\n",
    "ax2.tick_params(axis='y', labelcolor=\"#F39C12\")\n",
    "ax2.set_yscale(\"log\")\n",
    "\n",
    "# Title and legend\n",
    "plt.title(\"Bitcoin Daily Closing Prices (Linear vs Logarithmic)\", fontsize=16)\n",
    "fig.legend(loc=\"upper left\", bbox_to_anchor=(0.15, 0.85))  # Adjust legend placement\n",
    "\n",
    "plt.show()"
   ]
  },
  {
   "cell_type": "code",
   "execution_count": null,
   "id": "fef75933-06b6-4695-b36e-55b038184301",
   "metadata": {},
   "outputs": [],
   "source": []
  },
  {
   "cell_type": "code",
   "execution_count": null,
   "id": "95aa3e72-886a-44c9-9beb-964b2a7cbf21",
   "metadata": {},
   "outputs": [],
   "source": [
    "plt.figure(figsize=(20, 12))\n",
    "\n",
    "plt.plot(df_daily['Close'].resample('M').mean(), \n",
    "         label=\"Monthly Average\", \n",
    "         color=\"skyblue\", \n",
    "         linestyle=\"--\", \n",
    "         linewidth=1.5, \n",
    "         alpha=0.8)\n",
    "\n",
    "plt.plot(df_daily['Close'].resample('Q').mean(), \n",
    "         label=\"Quarterly Average\", \n",
    "         color=\"darkorange\", \n",
    "         linestyle=\"--\", \n",
    "         linewidth=2, \n",
    "         alpha=0.9)\n",
    "\n",
    "plt.plot(df_daily['Close'].resample('Y').mean(), \n",
    "         label=\"Yearly Average\", \n",
    "         color=\"#3498DB\", \n",
    "         linestyle=\"--\", \n",
    "         linewidth=3, \n",
    "         alpha=1)\n",
    "\n",
    "plt.title(\"Bitcoin Closing Prices: Monthly, Quarterly, and Yearly Averages\", fontsize=16)\n",
    "plt.ylabel(\"Average Closing Price\")\n",
    "plt.xlabel(\"Year\")\n",
    "plt.legend()\n",
    "\n",
    "plt.show()"
   ]
  },
  {
   "cell_type": "code",
   "execution_count": null,
   "id": "c13dd6b7-4599-4ec9-ad80-701b10424e8a",
   "metadata": {},
   "outputs": [],
   "source": [
    "df_daily['close_price_pct_change'] = df_daily['Close'].pct_change()*100\n",
    "\n",
    "df_daily['close_price_pct_change'].iplot(\n",
    "    layout=dict(\n",
    "        title='Daily Percentage Change in Bitcoin Closing Price',\n",
    "        autosize=True,\n",
    "        titlefont=dict(size=16),\n",
    "    )\n",
    ")\n"
   ]
  },
  {
   "cell_type": "code",
   "execution_count": null,
   "id": "37c07aaf-65b3-4020-bc32-1315723bc7e8",
   "metadata": {},
   "outputs": [],
   "source": []
  }
 ],
 "metadata": {
  "kernelspec": {
   "display_name": "Python [conda env:base] *",
   "language": "python",
   "name": "conda-base-py"
  },
  "language_info": {
   "codemirror_mode": {
    "name": "ipython",
    "version": 3
   },
   "file_extension": ".py",
   "mimetype": "text/x-python",
   "name": "python",
   "nbconvert_exporter": "python",
   "pygments_lexer": "ipython3",
   "version": "3.12.7"
  }
 },
 "nbformat": 4,
 "nbformat_minor": 5
}
