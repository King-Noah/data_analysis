{
 "cells": [
  {
   "cell_type": "code",
   "execution_count": null,
   "id": "7b237e64-9750-4cf4-b848-6c1751ec2ef5",
   "metadata": {},
   "outputs": [],
   "source": [
    "import boto3\n",
    "import cufflinks as cf\n",
    "import json\n",
    "import matplotlib.pyplot as plt\n",
    "import numpy as np\n",
    "import pandas as pd\n",
    "import plotly.graph_objs as go\n",
    "import warnings\n",
    "\n",
    "from io import StringIO\n",
    "from plotly.offline import download_plotlyjs, init_notebook_mode, plot, iplot"
   ]
  },
  {
   "cell_type": "code",
   "execution_count": null,
   "id": "f9eb0acd-3a62-43fc-8f92-40f89df9095d",
   "metadata": {},
   "outputs": [],
   "source": [
    "cf.go_offline()\n",
    "init_notebook_mode(connected=True)\n",
    "warnings.filterwarnings('ignore')"
   ]
  },
  {
   "cell_type": "code",
   "execution_count": null,
   "id": "3488efe4-5647-4dfe-86f2-09818dbd34fa",
   "metadata": {},
   "outputs": [],
   "source": [
    "def get_secret():\n",
    "    secret_name = \"s3_data_analysis\"\n",
    "    region_name = \"us-east-1\"\n",
    "\n",
    "    # Create a Secrets Manager client with default credentials\n",
    "    session = boto3.session.Session()\n",
    "    client = session.client(\n",
    "        service_name='secretsmanager',\n",
    "        region_name=region_name\n",
    "    )\n",
    "\n",
    "    try:\n",
    "        # Retrieve the secret value from Secrets Manager\n",
    "        get_secret_value_response = client.get_secret_value(\n",
    "            SecretId=secret_name\n",
    "        )\n",
    "    except ClientError as e:\n",
    "        raise e\n",
    "\n",
    "    # Extract the secret string (which is a JSON object)\n",
    "    secret = get_secret_value_response['SecretString']\n",
    "    \n",
    "    # Parse the secret string as JSON\n",
    "    secrets = json.loads(secret)\n",
    "    \n",
    "    # Retrieve AWS credentials from the secrets\n",
    "    aws_access_key_id = secrets['aws_access_key_id']\n",
    "    aws_secret_access_key = secrets['aws_secret_access_key']\n",
    "    \n",
    "    # Now use the retrieved credentials to create the S3 client\n",
    "    s3_client = boto3.client(\n",
    "        's3',\n",
    "        aws_access_key_id=aws_access_key_id,\n",
    "        aws_secret_access_key=aws_secret_access_key\n",
    "    )\n",
    "\n",
    "    return s3_client\n",
    "\n",
    "s3_client = get_secret()"
   ]
  },
  {
   "cell_type": "code",
   "execution_count": null,
   "id": "ccadaf8d-b5b2-4ec7-9ee1-15436c76caa1",
   "metadata": {},
   "outputs": [],
   "source": [
    "def read_csv_from_s3(bucket_name, key, s3_client=None):\n",
    "    \n",
    "    if s3_client is None:\n",
    "        s3_client = boto3.client('s3')\n",
    "    try:\n",
    "        response = s3_client.get_object(Bucket=bucket_name, Key=key)\n",
    "        csv_content = response['Body'].read().decode('utf-8')\n",
    "        data = StringIO(csv_content)\n",
    "        df = pd.read_csv(data)\n",
    "        return df\n",
    "    except Exception as e:\n",
    "         print(f\"Error reading CSV from S3: {e}\")\n",
    "         return None\n",
    "\n",
    "bucket_name = 'nk.data.analysis'\n",
    "key = 'Bitcoin_Analysis/btcusd_1-min_data.csv'\n",
    "\n",
    "df = read_csv_from_s3(bucket_name, key, s3_client)"
   ]
  },
  {
   "cell_type": "code",
   "execution_count": null,
   "id": "2a59d782-b8ee-4f9b-90c2-4351788511d6",
   "metadata": {},
   "outputs": [],
   "source": []
  },
  {
   "cell_type": "code",
   "execution_count": null,
   "id": "1ca7744f-1af4-4dca-b4ed-7d7e770b9721",
   "metadata": {},
   "outputs": [],
   "source": [
    "df['Timestamp'] = pd.to_datetime(df['Timestamp'], unit='s')"
   ]
  },
  {
   "cell_type": "code",
   "execution_count": null,
   "id": "160e87a3-5dbd-4a86-9420-7f127a4586f2",
   "metadata": {},
   "outputs": [],
   "source": []
  },
  {
   "cell_type": "code",
   "execution_count": null,
   "id": "6bfddd32-26e8-41e5-ac72-c82ad346faad",
   "metadata": {},
   "outputs": [],
   "source": [
    "df = df.sort_index(ascending=False).reset_index()"
   ]
  },
  {
   "cell_type": "code",
   "execution_count": null,
   "id": "98102f31-cae2-450f-9046-85aecb654495",
   "metadata": {},
   "outputs": [],
   "source": []
  },
  {
   "cell_type": "code",
   "execution_count": null,
   "id": "1176264a-c8af-4083-943e-0db1c91c37b4",
   "metadata": {},
   "outputs": [],
   "source": [
    "df.drop('index', axis=1, inplace=True)"
   ]
  },
  {
   "cell_type": "code",
   "execution_count": null,
   "id": "27e6a1cc-88ce-4c0a-8298-b5c0318c8988",
   "metadata": {},
   "outputs": [],
   "source": [
    "df.columns"
   ]
  },
  {
   "cell_type": "code",
   "execution_count": null,
   "id": "98d91a83-d2ee-419b-97f5-1efa04085075",
   "metadata": {},
   "outputs": [],
   "source": [
    "plt.figure(figsize = (20,12))\n",
    "           \n",
    "for index, col in enumerate(['Open', 'High', 'Low', 'Close'], 1):\n",
    "    plt.subplot(2,2,index)\n",
    "    plt.plot(df['Timestamp'], df[col])\n",
    "    plt.title(col)\n",
    "    "
   ]
  },
  {
   "cell_type": "code",
   "execution_count": null,
   "id": "c86b1396-2026-4818-b084-7ae9a39b266a",
   "metadata": {},
   "outputs": [],
   "source": []
  },
  {
   "cell_type": "code",
   "execution_count": null,
   "id": "a8e93e6d-11fc-4e9f-94b2-0207b615dcc5",
   "metadata": {},
   "outputs": [],
   "source": [
    "bitcoin_sample = df[0:50]"
   ]
  },
  {
   "cell_type": "code",
   "execution_count": null,
   "id": "bfd7961b-637a-4c94-8908-a3a4a40855fd",
   "metadata": {},
   "outputs": [],
   "source": [
    "trace = go.Candlestick(x=bitcoin_sample['Timestamp'],\n",
    "                       high = bitcoin_sample['High'],\n",
    "                       low = bitcoin_sample['Low'],\n",
    "                       open = bitcoin_sample['Open'],\n",
    "                       close = bitcoin_sample['Close'])"
   ]
  },
  {
   "cell_type": "code",
   "execution_count": null,
   "id": "35316d6c-cfbb-4096-a099-ea6f5b7a5d13",
   "metadata": {},
   "outputs": [],
   "source": [
    "candle_data = [trace]\n",
    "\n",
    "layout = {\n",
    "    'title':'Bitcoin Historical Prices',\n",
    "    'xaxis':{'title':'Date'}\n",
    "}"
   ]
  },
  {
   "cell_type": "code",
   "execution_count": null,
   "id": "29d92785-83ee-4358-a76b-bec1c342366f",
   "metadata": {},
   "outputs": [],
   "source": []
  },
  {
   "cell_type": "code",
   "execution_count": null,
   "id": "0d8f0e41-1367-4874-9bcb-d2e588694c7c",
   "metadata": {},
   "outputs": [],
   "source": [
    "fig = go.Figure(data = candle_data, layout=layout)"
   ]
  },
  {
   "cell_type": "code",
   "execution_count": null,
   "id": "0bc694c9-2f4b-4d6b-bbb6-52f0ffd489c7",
   "metadata": {},
   "outputs": [],
   "source": [
    "fig.update_layout(xaxis_rangeslider_visible = False)\n",
    "fig.show()"
   ]
  },
  {
   "cell_type": "code",
   "execution_count": null,
   "id": "35419c06-33e7-4cbe-951d-a36c258b507d",
   "metadata": {},
   "outputs": [],
   "source": []
  },
  {
   "cell_type": "code",
   "execution_count": null,
   "id": "53347b64-a8f4-41d4-8edb-515984c4db6f",
   "metadata": {},
   "outputs": [],
   "source": [
    "df.set_index('Timestamp', inplace=True)"
   ]
  },
  {
   "cell_type": "code",
   "execution_count": null,
   "id": "a6137401-3dd3-49f8-959c-2ba9a5bef910",
   "metadata": {},
   "outputs": [],
   "source": [
    "df['Close'].plot()"
   ]
  },
  {
   "cell_type": "code",
   "execution_count": null,
   "id": "6c54c219-2563-42b5-a30c-589357206581",
   "metadata": {},
   "outputs": [],
   "source": [
    "plt.figure(figsize=(20,6))\n",
    "plt.subplot(1,2,2)\n",
    "np.log1p(df['Close']).plot()\n",
    "plt.title('Log Scaling')\n",
    "plt.yscale('log')"
   ]
  },
  {
   "cell_type": "code",
   "execution_count": null,
   "id": "dbc04170-504f-43b1-8299-e5bf51bf3e06",
   "metadata": {},
   "outputs": [],
   "source": [
    "df['close_price_pct_change'] = df['Close'].pct_change()*100"
   ]
  },
  {
   "cell_type": "code",
   "execution_count": null,
   "id": "a9897129-edeb-4e95-8364-8f23ff36b3fa",
   "metadata": {},
   "outputs": [],
   "source": [
    "df['close_price_pct_change'].plot()"
   ]
  },
  {
   "cell_type": "code",
   "execution_count": null,
   "id": "9fd9761f-cae0-495e-8191-4a96721457ff",
   "metadata": {},
   "outputs": [],
   "source": []
  },
  {
   "cell_type": "code",
   "execution_count": null,
   "id": "6ab0be32-ee14-45c9-97b6-bf7e6d57e5d9",
   "metadata": {},
   "outputs": [],
   "source": [
    "df['close_price_pct_change'].iplot()"
   ]
  },
  {
   "cell_type": "code",
   "execution_count": null,
   "id": "87f79e94-a8a9-410f-995d-55f4dfb6462a",
   "metadata": {},
   "outputs": [],
   "source": []
  }
 ],
 "metadata": {
  "kernelspec": {
   "display_name": "Python [conda env:base] *",
   "language": "python",
   "name": "conda-base-py"
  },
  "language_info": {
   "codemirror_mode": {
    "name": "ipython",
    "version": 3
   },
   "file_extension": ".py",
   "mimetype": "text/x-python",
   "name": "python",
   "nbconvert_exporter": "python",
   "pygments_lexer": "ipython3",
   "version": "3.12.7"
  }
 },
 "nbformat": 4,
 "nbformat_minor": 5
}
